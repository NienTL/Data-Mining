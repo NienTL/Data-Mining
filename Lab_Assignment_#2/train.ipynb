{
 "cells": [
  {
   "cell_type": "code",
   "execution_count": 64,
   "metadata": {},
   "outputs": [],
   "source": [
    "# !pip install scikit-learn"
   ]
  },
  {
   "cell_type": "code",
   "execution_count": 65,
   "metadata": {},
   "outputs": [],
   "source": [
    "import pandas as pd\n",
    "from sklearn.impute import SimpleImputer"
   ]
  },
  {
   "cell_type": "code",
   "execution_count": 66,
   "metadata": {},
   "outputs": [],
   "source": [
    "train_X = pd.read_csv('./train_X.csv')\n",
    "test_X = pd.read_csv('./test_X.csv')\n",
    "train_y = pd.read_csv('./train_y.csv')\n",
    "# print(train_X)"
   ]
  },
  {
   "cell_type": "markdown",
   "metadata": {},
   "source": [
    "### ------------------------------------- Preprocess the data -------------------------------------"
   ]
  },
  {
   "cell_type": "code",
   "execution_count": 67,
   "metadata": {},
   "outputs": [],
   "source": [
    "# 找出數值型和類別型欄位\n",
    "numeric_cols = train_X.select_dtypes(include=['float64', 'int64']).columns\n",
    "categorical_cols = train_X.select_dtypes(include=['object']).columns\n",
    "\n",
    "# 使用中位數填補數值型欄位的缺失值\n",
    "num_imputer = SimpleImputer(strategy='median')\n",
    "train_X[numeric_cols] = num_imputer.fit_transform(train_X[numeric_cols])\n",
    "test_X[numeric_cols] = num_imputer.transform(test_X[numeric_cols])\n",
    "\n",
    "# 使用出現頻率最高的類別填補類別型欄位的缺失值\n",
    "cat_imputer = SimpleImputer(strategy='most_frequent')\n",
    "train_X[categorical_cols] = cat_imputer.fit_transform(train_X[categorical_cols])\n",
    "test_X[categorical_cols] = cat_imputer.transform(test_X[categorical_cols])"
   ]
  },
  {
   "cell_type": "code",
   "execution_count": 68,
   "metadata": {},
   "outputs": [
    {
     "name": "stdout",
     "output_type": "stream",
     "text": [
      "       encounter_id  patient_id  hospital_id   age        bmi  \\\n",
      "0          126956.0    125763.0         26.0  75.0  23.147277   \n",
      "1           18184.0     25399.0         54.0  42.0  35.071807   \n",
      "2           51597.0      7974.0         81.0  39.0  27.680158   \n",
      "3           40078.0     79625.0        161.0  62.0  42.070672   \n",
      "4          130673.0     88261.0         29.0  82.0  27.680158   \n",
      "...             ...         ...          ...   ...        ...   \n",
      "44934       88819.0     81966.0         64.0  67.0  20.622289   \n",
      "44935       45825.0      3470.0        161.0  63.0  35.054523   \n",
      "44936       92992.0    109497.0        133.0  73.0  24.920113   \n",
      "44937       29502.0     72376.0         54.0  69.0  27.202393   \n",
      "44938       66936.0    130251.0        161.0  87.0  32.158934   \n",
      "\n",
      "       elective_surgery         ethnicity gender  height  \\\n",
      "0                   0.0             Asian      M   163.0   \n",
      "1                   1.0         Caucasian      F   157.5   \n",
      "2                   0.0  African American      M   182.9   \n",
      "3                   0.0          Hispanic      F   157.0   \n",
      "4                   0.0         Caucasian      F   170.0   \n",
      "...                 ...               ...    ...     ...   \n",
      "44934               1.0         Caucasian      F   142.2   \n",
      "44935               0.0         Caucasian      M   175.2   \n",
      "44936               0.0         Caucasian      M   167.6   \n",
      "44937               1.0   Native American      M   170.2   \n",
      "44938               1.0         Caucasian      F   152.0   \n",
      "\n",
      "                icu_admit_source  ...  aids cirrhosis diabetes_mellitus  \\\n",
      "0           Accident & Emergency  ...   0.0       0.0               0.0   \n",
      "1      Operating Room / Recovery  ...   0.0       0.0               0.0   \n",
      "2           Accident & Emergency  ...   0.0       0.0               0.0   \n",
      "3           Accident & Emergency  ...   0.0       1.0               0.0   \n",
      "4           Accident & Emergency  ...   0.0       0.0               0.0   \n",
      "...                          ...  ...   ...       ...               ...   \n",
      "44934  Operating Room / Recovery  ...   0.0       0.0               0.0   \n",
      "44935       Accident & Emergency  ...   0.0       0.0               0.0   \n",
      "44936       Accident & Emergency  ...   0.0       0.0               1.0   \n",
      "44937  Operating Room / Recovery  ...   0.0       0.0               0.0   \n",
      "44938  Operating Room / Recovery  ...   0.0       0.0               0.0   \n",
      "\n",
      "       hepatic_failure  immunosuppression  leukemia  lymphoma  \\\n",
      "0                  0.0                0.0       0.0       0.0   \n",
      "1                  0.0                0.0       0.0       0.0   \n",
      "2                  0.0                0.0       0.0       0.0   \n",
      "3                  1.0                0.0       0.0       0.0   \n",
      "4                  0.0                0.0       0.0       0.0   \n",
      "...                ...                ...       ...       ...   \n",
      "44934              0.0                0.0       0.0       0.0   \n",
      "44935              0.0                0.0       0.0       0.0   \n",
      "44936              0.0                0.0       0.0       0.0   \n",
      "44937              0.0                0.0       0.0       0.0   \n",
      "44938              0.0                0.0       0.0       0.0   \n",
      "\n",
      "       solid_tumor_with_metastasis  apache_3j_bodysystem  apache_2_bodysystem  \n",
      "0                              0.0                Trauma               Trauma  \n",
      "1                              0.0        Cardiovascular  Undefined diagnoses  \n",
      "2                              0.0          Neurological           Neurologic  \n",
      "3                              0.0      Gastrointestinal     Gastrointestinal  \n",
      "4                              0.0                Trauma               Trauma  \n",
      "...                            ...                   ...                  ...  \n",
      "44934                          0.0      Gastrointestinal     Gastrointestinal  \n",
      "44935                          0.0                Sepsis       Cardiovascular  \n",
      "44936                          0.0                Sepsis       Cardiovascular  \n",
      "44937                          0.0           Respiratory          Respiratory  \n",
      "44938                          0.0        Cardiovascular       Cardiovascular  \n",
      "\n",
      "[44939 rows x 83 columns]\n"
     ]
    }
   ],
   "source": [
    "print(train_X)"
   ]
  },
  {
   "cell_type": "code",
   "execution_count": 69,
   "metadata": {},
   "outputs": [],
   "source": [
    "# 對類別型欄位進行 One-Hot Encoding\n",
    "train_X_encoded = pd.get_dummies(train_X, columns=categorical_cols, drop_first=True)\n",
    "test_X_encoded = pd.get_dummies(test_X, columns=categorical_cols, drop_first=True)\n",
    "\n",
    "# 對齊訓練集和測試集的特徵，補齊缺少的欄位\n",
    "train_X_encoded, test_X_encoded = train_X_encoded.align(test_X_encoded, join='left', axis=1, fill_value=0)"
   ]
  },
  {
   "cell_type": "code",
   "execution_count": 70,
   "metadata": {},
   "outputs": [
    {
     "name": "stdout",
     "output_type": "stream",
     "text": [
      "       encounter_id  patient_id  hospital_id   age        bmi  \\\n",
      "0          126956.0    125763.0         26.0  75.0  23.147277   \n",
      "1           18184.0     25399.0         54.0  42.0  35.071807   \n",
      "2           51597.0      7974.0         81.0  39.0  27.680158   \n",
      "3           40078.0     79625.0        161.0  62.0  42.070672   \n",
      "4          130673.0     88261.0         29.0  82.0  27.680158   \n",
      "...             ...         ...          ...   ...        ...   \n",
      "44934       88819.0     81966.0         64.0  67.0  20.622289   \n",
      "44935       45825.0      3470.0        161.0  63.0  35.054523   \n",
      "44936       92992.0    109497.0        133.0  73.0  24.920113   \n",
      "44937       29502.0     72376.0         54.0  69.0  27.202393   \n",
      "44938       66936.0    130251.0        161.0  87.0  32.158934   \n",
      "\n",
      "       elective_surgery  height  icu_id  pre_icu_los_days  weight  ...  \\\n",
      "0                   0.0   163.0   550.0          0.128472    61.5  ...   \n",
      "1                   1.0   157.5   479.0          3.150694    87.0  ...   \n",
      "2                   0.0   182.9    90.0          0.006944    80.3  ...   \n",
      "3                   0.0   157.0   413.0          0.084722   103.7  ...   \n",
      "4                   0.0   170.0   904.0          0.121528    80.3  ...   \n",
      "...                 ...     ...     ...               ...     ...  ...   \n",
      "44934               1.0   142.2   683.0          1.352778    41.7  ...   \n",
      "44935               0.0   175.2   413.0          0.005556   107.6  ...   \n",
      "44936               0.0   167.6   559.0          0.288194    70.0  ...   \n",
      "44937               1.0   170.2   474.0          0.619444    78.8  ...   \n",
      "44938               1.0   152.0   408.0          0.091667    74.3  ...   \n",
      "\n",
      "       apache_3j_bodysystem_Trauma  apache_2_bodysystem_Gastrointestinal  \\\n",
      "0                             True                                 False   \n",
      "1                            False                                 False   \n",
      "2                            False                                 False   \n",
      "3                            False                                  True   \n",
      "4                             True                                 False   \n",
      "...                            ...                                   ...   \n",
      "44934                        False                                  True   \n",
      "44935                        False                                 False   \n",
      "44936                        False                                 False   \n",
      "44937                        False                                 False   \n",
      "44938                        False                                 False   \n",
      "\n",
      "       apache_2_bodysystem_Haematologic  apache_2_bodysystem_Metabolic  \\\n",
      "0                                 False                          False   \n",
      "1                                 False                          False   \n",
      "2                                 False                          False   \n",
      "3                                 False                          False   \n",
      "4                                 False                          False   \n",
      "...                                 ...                            ...   \n",
      "44934                             False                          False   \n",
      "44935                             False                          False   \n",
      "44936                             False                          False   \n",
      "44937                             False                          False   \n",
      "44938                             False                          False   \n",
      "\n",
      "       apache_2_bodysystem_Neurologic  \\\n",
      "0                               False   \n",
      "1                               False   \n",
      "2                                True   \n",
      "3                               False   \n",
      "4                               False   \n",
      "...                               ...   \n",
      "44934                           False   \n",
      "44935                           False   \n",
      "44936                           False   \n",
      "44937                           False   \n",
      "44938                           False   \n",
      "\n",
      "       apache_2_bodysystem_Renal/Genitourinary  \\\n",
      "0                                        False   \n",
      "1                                        False   \n",
      "2                                        False   \n",
      "3                                        False   \n",
      "4                                        False   \n",
      "...                                        ...   \n",
      "44934                                    False   \n",
      "44935                                    False   \n",
      "44936                                    False   \n",
      "44937                                    False   \n",
      "44938                                    False   \n",
      "\n",
      "       apache_2_bodysystem_Respiratory  apache_2_bodysystem_Trauma  \\\n",
      "0                                False                        True   \n",
      "1                                False                       False   \n",
      "2                                False                       False   \n",
      "3                                False                       False   \n",
      "4                                False                        True   \n",
      "...                                ...                         ...   \n",
      "44934                            False                       False   \n",
      "44935                            False                       False   \n",
      "44936                            False                       False   \n",
      "44937                             True                       False   \n",
      "44938                            False                       False   \n",
      "\n",
      "       apache_2_bodysystem_Undefined Diagnoses  \\\n",
      "0                                        False   \n",
      "1                                        False   \n",
      "2                                        False   \n",
      "3                                        False   \n",
      "4                                        False   \n",
      "...                                        ...   \n",
      "44934                                    False   \n",
      "44935                                    False   \n",
      "44936                                    False   \n",
      "44937                                    False   \n",
      "44938                                    False   \n",
      "\n",
      "       apache_2_bodysystem_Undefined diagnoses  \n",
      "0                                        False  \n",
      "1                                         True  \n",
      "2                                        False  \n",
      "3                                        False  \n",
      "4                                        False  \n",
      "...                                        ...  \n",
      "44934                                    False  \n",
      "44935                                    False  \n",
      "44936                                    False  \n",
      "44937                                    False  \n",
      "44938                                    False  \n",
      "\n",
      "[44939 rows x 114 columns]\n"
     ]
    }
   ],
   "source": [
    "# print(train_X_encoded.head())\n",
    "# print(test_X_encoded.head())\n",
    "print(train_X_encoded)"
   ]
  },
  {
   "cell_type": "markdown",
   "metadata": {},
   "source": [
    "### ------------------------------------- Train the model -------------------------------------"
   ]
  },
  {
   "cell_type": "code",
   "execution_count": 71,
   "metadata": {},
   "outputs": [],
   "source": [
    "from sklearn.ensemble import RandomForestClassifier\n",
    "from sklearn.model_selection import cross_val_score, KFold\n",
    "from sklearn.metrics import make_scorer, roc_auc_score, f1_score\n",
    "import numpy as np"
   ]
  },
  {
   "cell_type": "code",
   "execution_count": 72,
   "metadata": {},
   "outputs": [],
   "source": [
    "# 將目標變數轉換為一維格式\n",
    "train_y = train_y['has_died'] if 'has_died' in train_y.columns else train_y"
   ]
  },
  {
   "cell_type": "code",
   "execution_count": null,
   "metadata": {},
   "outputs": [
    {
     "name": "stderr",
     "output_type": "stream",
     "text": [
      "/Library/Frameworks/Python.framework/Versions/3.12/lib/python3.12/site-packages/sklearn/metrics/_scorer.py:610: FutureWarning: The `needs_threshold` and `needs_proba` parameter are deprecated in version 1.4 and will be removed in 1.6. You can either let `response_method` be `None` or set it to `predict` to preserve the same behaviour.\n",
      "  warnings.warn(\n"
     ]
    }
   ],
   "source": [
    "# 設定5折交叉驗證\n",
    "kf = KFold(n_splits=5, shuffle=True, random_state=42)\n",
    "\n",
    "# 初始化 Random Forest 模型\n",
    "rf_model = RandomForestClassifier(n_estimators=200, max_depth=15, random_state=42)\n",
    "\n",
    "# 定義評分標準，計算 AUROC 和 F1 分數\n",
    "roc_auc_scorer = make_scorer(roc_auc_score, needs_proba=True)\n",
    "f1_scorer = make_scorer(f1_score, average='macro')\n",
    "\n",
    "# 計算 5 折交叉驗證的平均 AUROC 和 F1 分數\n",
    "roc_auc_scores = cross_val_score(rf_model, train_X_encoded, train_y, cv=kf, scoring=roc_auc_scorer)\n",
    "f1_scores = cross_val_score(rf_model, train_X_encoded, train_y, cv=kf, scoring=f1_scorer)\n",
    "\n",
    "roc_auc_avg = np.mean(roc_auc_scores)\n",
    "f1_avg = np.mean(f1_scores)\n",
    "\n"
   ]
  },
  {
   "cell_type": "code",
   "execution_count": 74,
   "metadata": {},
   "outputs": [
    {
     "name": "stdout",
     "output_type": "stream",
     "text": [
      "Average ROC AUC Score (5-fold CV): 0.8762270483756132\n",
      "Average F1 Score (5-fold CV): 0.6633549221878716\n"
     ]
    }
   ],
   "source": [
    "print(\"Average ROC AUC Score (5-fold CV):\", roc_auc_avg)\n",
    "print(\"Average F1 Score (5-fold CV):\", f1_avg)"
   ]
  },
  {
   "cell_type": "code",
   "execution_count": 75,
   "metadata": {},
   "outputs": [],
   "source": [
    "# 用整個訓練集進行最終訓練\n",
    "rf_model.fit(train_X_encoded, train_y)\n",
    "\n",
    "# 對測試集進行預測\n",
    "test_predictions = rf_model.predict(test_X_encoded)"
   ]
  },
  {
   "cell_type": "code",
   "execution_count": 76,
   "metadata": {},
   "outputs": [
    {
     "name": "stdout",
     "output_type": "stream",
     "text": [
      "Predictions saved to testing_result.csv\n"
     ]
    }
   ],
   "source": [
    "# 將預測結果保存為 CSV 格式\n",
    "submission = pd.DataFrame({\n",
    "    'patient_id': test_X['patient_id'].astype(int),  # 假設測試集有 'encounter_id' 欄位作為唯一識別碼\n",
    "    'has_died': test_predictions\n",
    "})\n",
    "submission.to_csv('./testing_result.csv', index=False)\n",
    "\n",
    "print(\"Predictions saved to testing_result.csv\")"
   ]
  }
 ],
 "metadata": {
  "kernelspec": {
   "display_name": "Python 3",
   "language": "python",
   "name": "python3"
  },
  "language_info": {
   "codemirror_mode": {
    "name": "ipython",
    "version": 3
   },
   "file_extension": ".py",
   "mimetype": "text/x-python",
   "name": "python",
   "nbconvert_exporter": "python",
   "pygments_lexer": "ipython3",
   "version": "3.12.4"
  }
 },
 "nbformat": 4,
 "nbformat_minor": 2
}
