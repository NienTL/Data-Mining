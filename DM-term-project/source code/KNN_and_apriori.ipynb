{
  "nbformat": 4,
  "nbformat_minor": 0,
  "metadata": {
    "colab": {
      "provenance": []
    },
    "kernelspec": {
      "name": "python3",
      "display_name": "Python 3"
    },
    "language_info": {
      "name": "python"
    }
  },
  "cells": [
    {
      "cell_type": "code",
      "source": [
        "import os\n",
        "import pandas as pd\n",
        "from sklearn.model_selection import train_test_split\n",
        "from sklearn.preprocessing import LabelEncoder\n",
        "from sklearn.neighbors import KNeighborsClassifier\n",
        "from sklearn.metrics import classification_report, accuracy_score, roc_auc_score\n",
        "from imblearn.over_sampling import SMOTE"
      ],
      "metadata": {
        "id": "ccMistvaiKMN",
        "colab": {
          "base_uri": "https://localhost:8080/"
        },
        "outputId": "249cd1bf-004b-432b-893b-0af5b23b0cf1"
      },
      "execution_count": 92,
      "outputs": [
        {
          "output_type": "stream",
          "name": "stderr",
          "text": [
            "/usr/local/lib/python3.10/dist-packages/ipykernel/ipkernel.py:283: DeprecationWarning: `should_run_async` will not call `transform_cell` automatically in the future. Please pass the result to `transformed_cell` argument and any exception that happen during thetransform in `preprocessing_exc_tuple` in IPython 7.17 and above.\n",
            "  and should_run_async(code)\n"
          ]
        }
      ]
    },
    {
      "cell_type": "code",
      "source": [
        "os.chdir('/content/')\n",
        "os.listdir()\n",
        "\n",
        "# fill the Nan value -> no disorder\n",
        "data = pd.read_csv('/content/drive/MyDrive/Sleep_health_and_lifestyle_dataset.csv')"
      ],
      "metadata": {
        "id": "iSwjVfLaiKY8",
        "colab": {
          "base_uri": "https://localhost:8080/"
        },
        "outputId": "3a1781b4-f7d3-4cb5-ebfa-b63ed61dc083"
      },
      "execution_count": 93,
      "outputs": [
        {
          "output_type": "stream",
          "name": "stderr",
          "text": [
            "/usr/local/lib/python3.10/dist-packages/ipykernel/ipkernel.py:283: DeprecationWarning: `should_run_async` will not call `transform_cell` automatically in the future. Please pass the result to `transformed_cell` argument and any exception that happen during thetransform in `preprocessing_exc_tuple` in IPython 7.17 and above.\n",
            "  and should_run_async(code)\n"
          ]
        }
      ]
    },
    {
      "cell_type": "code",
      "source": [
        "data['Sleep Disorder'] = data['Sleep Disorder'].fillna('no disorder')  # 填充空值\n",
        "\n",
        "# data preprocessing\n",
        "data['BMI Category'] = data['BMI Category'].replace('Normal Weight', 'Normal')\n",
        "data[['Blood Pressure systolic', 'Blood Pressure diastolic']] = data['Blood Pressure'].str.split('/', expand=True)\n",
        "data['Blood Pressure systolic'] = pd.to_numeric(data['Blood Pressure systolic'])\n",
        "data['Blood Pressure diastolic'] = pd.to_numeric(data['Blood Pressure diastolic'])\n",
        "data = data.drop(columns=['Person ID', 'Blood Pressure'])\n",
        "\n",
        "# spilt data\n",
        "X_data = data.drop(columns=['Sleep Disorder'])\n",
        "y_data = data[['Sleep Disorder']]\n",
        "X_train, X_val, y_train, y_val = train_test_split(X_data, y_data, test_size=0.2, random_state=42)"
      ],
      "metadata": {
        "id": "3O1te828iKcF",
        "colab": {
          "base_uri": "https://localhost:8080/"
        },
        "outputId": "a9f9f8aa-9fae-4398-e205-1d9f4e249878"
      },
      "execution_count": 94,
      "outputs": [
        {
          "output_type": "stream",
          "name": "stderr",
          "text": [
            "/usr/local/lib/python3.10/dist-packages/ipykernel/ipkernel.py:283: DeprecationWarning: `should_run_async` will not call `transform_cell` automatically in the future. Please pass the result to `transformed_cell` argument and any exception that happen during thetransform in `preprocessing_exc_tuple` in IPython 7.17 and above.\n",
            "  and should_run_async(code)\n"
          ]
        }
      ]
    },
    {
      "cell_type": "code",
      "source": [
        "X_train['Occupation'].value_counts()"
      ],
      "metadata": {
        "colab": {
          "base_uri": "https://localhost:8080/",
          "height": 515
        },
        "id": "vwGbQQhPL3gh",
        "outputId": "ef1e3306-454b-4a72-a73b-bb758adacda0"
      },
      "execution_count": 95,
      "outputs": [
        {
          "output_type": "stream",
          "name": "stderr",
          "text": [
            "/usr/local/lib/python3.10/dist-packages/ipykernel/ipkernel.py:283: DeprecationWarning: `should_run_async` will not call `transform_cell` automatically in the future. Please pass the result to `transformed_cell` argument and any exception that happen during thetransform in `preprocessing_exc_tuple` in IPython 7.17 and above.\n",
            "  and should_run_async(code)\n"
          ]
        },
        {
          "output_type": "execute_result",
          "data": {
            "text/plain": [
              "Occupation\n",
              "Nurse                   61\n",
              "Doctor                  53\n",
              "Engineer                53\n",
              "Lawyer                  36\n",
              "Teacher                 34\n",
              "Accountant              32\n",
              "Salesperson             22\n",
              "Scientist                4\n",
              "Software Engineer        2\n",
              "Sales Representative     1\n",
              "Manager                  1\n",
              "Name: count, dtype: int64"
            ],
            "text/html": [
              "<div>\n",
              "<style scoped>\n",
              "    .dataframe tbody tr th:only-of-type {\n",
              "        vertical-align: middle;\n",
              "    }\n",
              "\n",
              "    .dataframe tbody tr th {\n",
              "        vertical-align: top;\n",
              "    }\n",
              "\n",
              "    .dataframe thead th {\n",
              "        text-align: right;\n",
              "    }\n",
              "</style>\n",
              "<table border=\"1\" class=\"dataframe\">\n",
              "  <thead>\n",
              "    <tr style=\"text-align: right;\">\n",
              "      <th></th>\n",
              "      <th>count</th>\n",
              "    </tr>\n",
              "    <tr>\n",
              "      <th>Occupation</th>\n",
              "      <th></th>\n",
              "    </tr>\n",
              "  </thead>\n",
              "  <tbody>\n",
              "    <tr>\n",
              "      <th>Nurse</th>\n",
              "      <td>61</td>\n",
              "    </tr>\n",
              "    <tr>\n",
              "      <th>Doctor</th>\n",
              "      <td>53</td>\n",
              "    </tr>\n",
              "    <tr>\n",
              "      <th>Engineer</th>\n",
              "      <td>53</td>\n",
              "    </tr>\n",
              "    <tr>\n",
              "      <th>Lawyer</th>\n",
              "      <td>36</td>\n",
              "    </tr>\n",
              "    <tr>\n",
              "      <th>Teacher</th>\n",
              "      <td>34</td>\n",
              "    </tr>\n",
              "    <tr>\n",
              "      <th>Accountant</th>\n",
              "      <td>32</td>\n",
              "    </tr>\n",
              "    <tr>\n",
              "      <th>Salesperson</th>\n",
              "      <td>22</td>\n",
              "    </tr>\n",
              "    <tr>\n",
              "      <th>Scientist</th>\n",
              "      <td>4</td>\n",
              "    </tr>\n",
              "    <tr>\n",
              "      <th>Software Engineer</th>\n",
              "      <td>2</td>\n",
              "    </tr>\n",
              "    <tr>\n",
              "      <th>Sales Representative</th>\n",
              "      <td>1</td>\n",
              "    </tr>\n",
              "    <tr>\n",
              "      <th>Manager</th>\n",
              "      <td>1</td>\n",
              "    </tr>\n",
              "  </tbody>\n",
              "</table>\n",
              "</div><br><label><b>dtype:</b> int64</label>"
            ]
          },
          "metadata": {},
          "execution_count": 95
        }
      ]
    },
    {
      "cell_type": "code",
      "source": [
        "for column in X_train.columns:\n",
        "    if X_train[column].dtype in ['int64', 'float64']:\n",
        "        unique_values = X_train[column].nunique()\n",
        "        print(f\"{column}: {unique_values} unique values\")\n",
        "\n",
        "# discretize the data since most of them are continuous value\n",
        "def discretize_column(column, bins=6):\n",
        "    \"\"\"\n",
        "    seperate to 6 value with max min value (since the minumun kinds of value of all the column is 6)\n",
        "    \"\"\"\n",
        "    if column.dtype in ['int64', 'float64']:\n",
        "        labels = ['Very Low', 'Low', 'Medium Low', 'Medium High', 'High', 'Very High']\n",
        "        min_val = column.min()\n",
        "        max_val = column.max()\n",
        "        # calculate the range\n",
        "        bin_edges = [min_val + (max_val - min_val) * i / bins for i in range(bins + 1)]\n",
        "        return pd.cut(column, bins=bin_edges, labels=labels, include_lowest=True), bin_edges\n",
        "    return column, None"
      ],
      "metadata": {
        "colab": {
          "base_uri": "https://localhost:8080/"
        },
        "id": "-tuVT5GaiT6Z",
        "outputId": "8d2c7b46-5798-433d-e213-68883f74cc62"
      },
      "execution_count": 96,
      "outputs": [
        {
          "output_type": "stream",
          "name": "stdout",
          "text": [
            "Age: 30 unique values\n",
            "Sleep Duration: 27 unique values\n",
            "Quality of Sleep: 6 unique values\n",
            "Physical Activity Level: 16 unique values\n",
            "Stress Level: 6 unique values\n",
            "Heart Rate: 18 unique values\n",
            "Daily Steps: 19 unique values\n",
            "Blood Pressure systolic: 18 unique values\n",
            "Blood Pressure diastolic: 16 unique values\n"
          ]
        },
        {
          "output_type": "stream",
          "name": "stderr",
          "text": [
            "/usr/local/lib/python3.10/dist-packages/ipykernel/ipkernel.py:283: DeprecationWarning: `should_run_async` will not call `transform_cell` automatically in the future. Please pass the result to `transformed_cell` argument and any exception that happen during thetransform in `preprocessing_exc_tuple` in IPython 7.17 and above.\n",
            "  and should_run_async(code)\n"
          ]
        }
      ]
    },
    {
      "cell_type": "code",
      "source": [
        "# X_train discretized and record the seperate range\n",
        "discretized_train = {}\n",
        "bin_edges = {}\n",
        "for column in X_train.columns:\n",
        "    discretized_train[column], bin_edges[column] = discretize_column(X_train[column])\n",
        "\n",
        "X_train_discrete = pd.DataFrame(discretized_train)\n",
        "\n",
        "# discretized X_val by the seperate range of X_train\n",
        "def discretize_using_bins(column, bins, labels):\n",
        "\n",
        "    if column.dtype in ['int64', 'float64']:\n",
        "        return pd.cut(column, bins=bins, labels=labels, include_lowest=True)\n",
        "    return column\n",
        "\n",
        "discretized_val = {}\n",
        "for column in X_val.columns:\n",
        "    if column in bin_edges:\n",
        "        discretized_val[column] = discretize_using_bins(X_val[column], bin_edges[column],\n",
        "                                                        labels=['Very Low', 'Low', 'Medium Low', 'Medium High', 'High', 'Very High'])\n",
        "    else:\n",
        "        discretized_val[column] = X_val[column]\n",
        "\n",
        "X_val_discrete = pd.DataFrame(discretized_val)"
      ],
      "metadata": {
        "id": "2BdmQvniiT9s",
        "colab": {
          "base_uri": "https://localhost:8080/"
        },
        "outputId": "059722d5-dd75-454f-afe6-214b44c01e73"
      },
      "execution_count": 97,
      "outputs": [
        {
          "output_type": "stream",
          "name": "stderr",
          "text": [
            "/usr/local/lib/python3.10/dist-packages/ipykernel/ipkernel.py:283: DeprecationWarning: `should_run_async` will not call `transform_cell` automatically in the future. Please pass the result to `transformed_cell` argument and any exception that happen during thetransform in `preprocessing_exc_tuple` in IPython 7.17 and above.\n",
            "  and should_run_async(code)\n"
          ]
        }
      ]
    },
    {
      "cell_type": "code",
      "source": [
        "# since TransactionEncoder in mlxtend.preprocessingwould seem the same name as same object even in different col\n",
        "for column in X_train_discrete.columns:\n",
        "    X_train_discrete[column] = X_train_discrete[column].apply(lambda x: f\"{column}_{x}\")\n",
        "\n",
        "for column in X_val_discrete.columns:\n",
        "    X_val_discrete[column] = X_val_discrete[column].apply(lambda x: f\"{column}_{x}\")\n",
        "\n",
        "# concat y for apriori\n",
        "train_data_prefixed = pd.concat([X_train_discrete, y_train], axis=1)\n",
        "\n",
        "#print(train_data_prefixed.head())"
      ],
      "metadata": {
        "id": "JvKBUOM6iUHM",
        "colab": {
          "base_uri": "https://localhost:8080/"
        },
        "outputId": "0485c599-1497-4b88-9206-c0d92ce30af7"
      },
      "execution_count": 98,
      "outputs": [
        {
          "output_type": "stream",
          "name": "stderr",
          "text": [
            "/usr/local/lib/python3.10/dist-packages/ipykernel/ipkernel.py:283: DeprecationWarning: `should_run_async` will not call `transform_cell` automatically in the future. Please pass the result to `transformed_cell` argument and any exception that happen during thetransform in `preprocessing_exc_tuple` in IPython 7.17 and above.\n",
            "  and should_run_async(code)\n"
          ]
        }
      ]
    },
    {
      "cell_type": "code",
      "source": [
        "from mlxtend.frequent_patterns import apriori\n",
        "from mlxtend.preprocessing import TransactionEncoder\n",
        "\n",
        "min_support = 0.75\n",
        "\n",
        "# since the number of data is not uniform\n",
        "data_no_disorder = train_data_prefixed[train_data_prefixed['Sleep Disorder'] == 'no disorder']\n",
        "data_insomnia = train_data_prefixed[train_data_prefixed['Sleep Disorder'] == 'Insomnia']\n",
        "data_sleep_apnea = train_data_prefixed[train_data_prefixed['Sleep Disorder'] == 'Sleep Apnea']\n",
        "\n",
        "\n",
        "def process_transactions(data):\n",
        "    transactions = data.apply(lambda row: row.tolist(), axis=1).tolist()\n",
        "    te = TransactionEncoder()\n",
        "    te_ary = te.fit(transactions).transform(transactions)\n",
        "    return pd.DataFrame(te_ary, columns=te.columns_)\n",
        "\n",
        "transactions_no_disorder = process_transactions(data_no_disorder)\n",
        "transactions_insomnia = process_transactions(data_insomnia)\n",
        "transactions_sleep_apnea = process_transactions(data_sleep_apnea)\n",
        "\n",
        "frequent_itemsets_no_disorder = apriori(transactions_no_disorder, min_support=min_support, use_colnames=True)\n",
        "frequent_itemsets_insomnia = apriori(transactions_insomnia, min_support=min_support, use_colnames=True)\n",
        "frequent_itemsets_sleep_apnea = apriori(transactions_sleep_apnea, min_support=min_support, use_colnames=True)\n",
        "\n",
        "# filter the one with only y value\n",
        "def filter_frequent_itemsets(frequent_itemsets, label):\n",
        "    exclude_itemset = {frozenset({label})}\n",
        "    return frequent_itemsets[~frequent_itemsets['itemsets'].isin(exclude_itemset)]\n",
        "\n",
        "filtered_A = frequent_itemsets_insomnia[frequent_itemsets_insomnia['itemsets'].apply(lambda x: 'Insomnia' in x)]\n",
        "filtered_B = frequent_itemsets_no_disorder[frequent_itemsets_no_disorder['itemsets'].apply(lambda x: 'no disorder' in x)]\n",
        "filtered_C = frequent_itemsets_sleep_apnea[frequent_itemsets_sleep_apnea['itemsets'].apply(lambda x: 'Sleep Apnea' in x)]\n",
        "\n",
        "frequent_itemsets_no_disorder = filter_frequent_itemsets(filtered_B, 'no disorder')\n",
        "frequent_itemsets_insomnia = filter_frequent_itemsets(filtered_A, 'Insomnia')\n",
        "frequent_itemsets_sleep_apnea = filter_frequent_itemsets(filtered_C, 'Sleep Apnea')\n",
        "\n",
        "# concat all\n",
        "frequent_itemsets = pd.concat(\n",
        "    [frequent_itemsets_no_disorder, frequent_itemsets_insomnia, frequent_itemsets_sleep_apnea]\n",
        ").reset_index(drop=True)\n",
        "\n",
        "\n",
        "#pd.set_option('display.max_colwidth', None)\n",
        "#pd.set_option('display.expand_frame_repr', False)\n",
        "#print(frequent_itemsets.to_string(index=False, justify=\"left\"))\n",
        "#print(frequent_itemsets)\n",
        "pd.set_option('display.max_colwidth', None)\n",
        "pd.set_option('display.expand_frame_repr', False)\n",
        "\n",
        "frequent_itemsets = frequent_itemsets.sort_values(by='support', ascending=False)\n",
        "\n",
        "\n",
        "max_itemsets_length = max(frequent_itemsets['itemsets'].apply(lambda x: len(str(x))))\n",
        "\n",
        "\n",
        "for index, row in frequent_itemsets.iterrows():\n",
        "    # support to percentage\n",
        "    support_percentage = f\"{row['support'] * 100:.2f}%\"\n",
        "\n",
        "    itemset_str = str(row['itemsets']).ljust(max_itemsets_length)\n",
        "    print(f\"{support_percentage.ljust(10)} {itemset_str}\")"
      ],
      "metadata": {
        "colab": {
          "base_uri": "https://localhost:8080/"
        },
        "id": "AogkbGXziUKS",
        "outputId": "9525c803-676e-4f47-cd83-0c0714ddc1af"
      },
      "execution_count": 99,
      "outputs": [
        {
          "output_type": "stream",
          "name": "stdout",
          "text": [
            "90.91%     frozenset({'BMI Category_Normal', 'no disorder'})                                                                                                                    \n",
            "88.71%     frozenset({'Gender_Female', 'Sleep Apnea'})                                                                                                                          \n",
            "87.10%     frozenset({'BMI Category_Overweight', 'Sleep Apnea'})                                                                                                                \n",
            "85.48%     frozenset({'Gender_Female', 'BMI Category_Overweight', 'Sleep Apnea'})                                                                                               \n",
            "83.87%     frozenset({'Blood Pressure systolic_Very High', 'Sleep Apnea'})                                                                                                      \n",
            "83.61%     frozenset({'Insomnia', 'Sleep Duration_Low'})                                                                                                                        \n",
            "81.97%     frozenset({'Insomnia', 'BMI Category_Overweight'})                                                                                                                   \n",
            "80.65%     frozenset({'Gender_Female', 'Sleep Apnea', 'Occupation_Nurse'})                                                                                                      \n",
            "80.65%     frozenset({'Sleep Apnea', 'Occupation_Nurse'})                                                                                                                       \n",
            "79.03%     frozenset({'BMI Category_Overweight', 'Blood Pressure systolic_Very High', 'Sleep Apnea', 'Occupation_Nurse'})                                                       \n",
            "79.03%     frozenset({'Sleep Apnea', 'Blood Pressure systolic_Very High', 'Occupation_Nurse'})                                                                                  \n",
            "79.03%     frozenset({'BMI Category_Overweight', 'Blood Pressure systolic_Very High', 'Blood Pressure diastolic_Very High', 'Sleep Apnea'})                                     \n",
            "79.03%     frozenset({'Gender_Female', 'BMI Category_Overweight', 'Sleep Apnea', 'Blood Pressure diastolic_Very High'})                                                         \n",
            "79.03%     frozenset({'BMI Category_Overweight', 'Sleep Apnea', 'Blood Pressure diastolic_Very High', 'Occupation_Nurse'})                                                      \n",
            "79.03%     frozenset({'Gender_Female', 'BMI Category_Overweight', 'Blood Pressure systolic_Very High', 'Sleep Apnea'})                                                          \n",
            "79.03%     frozenset({'Gender_Female', 'BMI Category_Overweight', 'Sleep Apnea', 'Occupation_Nurse'})                                                                           \n",
            "79.03%     frozenset({'Sleep Apnea', 'Blood Pressure diastolic_Very High', 'Occupation_Nurse'})                                                                                 \n",
            "79.03%     frozenset({'Gender_Female', 'Blood Pressure systolic_Very High', 'Blood Pressure diastolic_Very High', 'Sleep Apnea'})                                               \n",
            "79.03%     frozenset({'Sleep Apnea', 'Blood Pressure systolic_Very High', 'Blood Pressure diastolic_Very High', 'Occupation_Nurse'})                                            \n",
            "79.03%     frozenset({'Gender_Female', 'Sleep Apnea', 'Blood Pressure diastolic_Very High', 'Occupation_Nurse'})                                                                \n",
            "79.03%     frozenset({'Gender_Female', 'Blood Pressure systolic_Very High', 'Sleep Apnea', 'Occupation_Nurse'})                                                                 \n",
            "79.03%     frozenset({'BMI Category_Overweight', 'Gender_Female', 'Blood Pressure diastolic_Very High', 'Blood Pressure systolic_Very High', 'Sleep Apnea'})                    \n",
            "79.03%     frozenset({'BMI Category_Overweight', 'Blood Pressure diastolic_Very High', 'Occupation_Nurse', 'Blood Pressure systolic_Very High', 'Sleep Apnea'})                 \n",
            "79.03%     frozenset({'BMI Category_Overweight', 'Gender_Female', 'Blood Pressure diastolic_Very High', 'Occupation_Nurse', 'Sleep Apnea'})                                     \n",
            "79.03%     frozenset({'BMI Category_Overweight', 'Gender_Female', 'Occupation_Nurse', 'Blood Pressure systolic_Very High', 'Sleep Apnea'})                                      \n",
            "79.03%     frozenset({'Gender_Female', 'Blood Pressure diastolic_Very High', 'Occupation_Nurse', 'Blood Pressure systolic_Very High', 'Sleep Apnea'})                           \n",
            "79.03%     frozenset({'Gender_Female', 'Blood Pressure systolic_Very High', 'Sleep Apnea'})                                                                                     \n",
            "79.03%     frozenset({'Blood Pressure systolic_Very High', 'Blood Pressure diastolic_Very High', 'Sleep Apnea'})                                                                \n",
            "79.03%     frozenset({'Gender_Female', 'Sleep Apnea', 'Blood Pressure diastolic_Very High'})                                                                                    \n",
            "79.03%     frozenset({'BMI Category_Overweight', 'Sleep Apnea', 'Blood Pressure diastolic_Very High'})                                                                          \n",
            "79.03%     frozenset({'Sleep Apnea', 'Blood Pressure diastolic_Very High'})                                                                                                     \n",
            "79.03%     frozenset({'BMI Category_Overweight', 'Gender_Female', 'Blood Pressure diastolic_Very High', 'Occupation_Nurse', 'Blood Pressure systolic_Very High', 'Sleep Apnea'})\n",
            "79.03%     frozenset({'BMI Category_Overweight', 'Blood Pressure systolic_Very High', 'Sleep Apnea'})                                                                           \n",
            "79.03%     frozenset({'BMI Category_Overweight', 'Sleep Apnea', 'Occupation_Nurse'})                                                                                            \n",
            "78.69%     frozenset({'Insomnia', 'BMI Category_Overweight', 'Sleep Duration_Low'})                                                                                             \n",
            "77.05%     frozenset({'Insomnia', 'Daily Steps_Medium Low'})                                                                                                                    \n",
            "77.05%     frozenset({'Insomnia', 'Physical Activity Level_Low'})                                                                                                               \n",
            "77.05%     frozenset({'Insomnia', 'BMI Category_Overweight', 'Daily Steps_Medium Low'})                                                                                         \n",
            "77.05%     frozenset({'Insomnia', 'Physical Activity Level_Low', 'BMI Category_Overweight'})                                                                                    \n",
            "75.41%     frozenset({'BMI Category_Overweight', 'Daily Steps_Medium Low', 'Insomnia', 'Sleep Duration_Low', 'Physical Activity Level_Low'})                                    \n",
            "75.41%     frozenset({'Insomnia', 'BMI Category_Overweight', 'Physical Activity Level_Low', 'Sleep Duration_Low'})                                                              \n",
            "75.41%     frozenset({'Insomnia', 'BMI Category_Overweight', 'Sleep Duration_Low', 'Daily Steps_Medium Low'})                                                                   \n",
            "75.41%     frozenset({'Insomnia', 'Physical Activity Level_Low', 'BMI Category_Overweight', 'Daily Steps_Medium Low'})                                                          \n",
            "75.41%     frozenset({'Insomnia', 'Physical Activity Level_Low', 'Sleep Duration_Low'})                                                                                         \n",
            "75.41%     frozenset({'Insomnia', 'Sleep Duration_Low', 'Daily Steps_Medium Low'})                                                                                              \n",
            "75.41%     frozenset({'Insomnia', 'Physical Activity Level_Low', 'Daily Steps_Medium Low'})                                                                                     \n",
            "75.41%     frozenset({'Insomnia', 'Physical Activity Level_Low', 'Sleep Duration_Low', 'Daily Steps_Medium Low'})                                                               \n"
          ]
        },
        {
          "output_type": "stream",
          "name": "stderr",
          "text": [
            "/usr/local/lib/python3.10/dist-packages/ipykernel/ipkernel.py:283: DeprecationWarning: `should_run_async` will not call `transform_cell` automatically in the future. Please pass the result to `transformed_cell` argument and any exception that happen during thetransform in `preprocessing_exc_tuple` in IPython 7.17 and above.\n",
            "  and should_run_async(code)\n"
          ]
        }
      ]
    },
    {
      "cell_type": "code",
      "source": [
        "print(len(frequent_itemsets))"
      ],
      "metadata": {
        "colab": {
          "base_uri": "https://localhost:8080/"
        },
        "id": "09f8Qycoe_3v",
        "outputId": "871ef5a0-f8de-4e43-987b-930feb1aded5"
      },
      "execution_count": 100,
      "outputs": [
        {
          "output_type": "stream",
          "name": "stdout",
          "text": [
            "47\n"
          ]
        },
        {
          "output_type": "stream",
          "name": "stderr",
          "text": [
            "/usr/local/lib/python3.10/dist-packages/ipykernel/ipkernel.py:283: DeprecationWarning: `should_run_async` will not call `transform_cell` automatically in the future. Please pass the result to `transformed_cell` argument and any exception that happen during thetransform in `preprocessing_exc_tuple` in IPython 7.17 and above.\n",
            "  and should_run_async(code)\n"
          ]
        }
      ]
    },
    {
      "cell_type": "code",
      "source": [
        "# remove the y value since there is no y value for test\n",
        "def remove_labels_from_itemsets(frequent_itemsets, exclude_labels):\n",
        "\n",
        "    filtered_itemsets = frequent_itemsets['itemsets'].apply(\n",
        "        lambda x: frozenset(item for item in x if item not in exclude_labels)\n",
        "    )\n",
        "    # renew itemsets\n",
        "    frequent_itemsets['itemsets'] = filtered_itemsets\n",
        "\n",
        "    frequent_itemsets = frequent_itemsets[frequent_itemsets['itemsets'].apply(len) > 0]\n",
        "    return frequent_itemsets\n",
        "\n",
        "exclude_labels = ['Sleep Apnea', 'no disorder', 'Insomnia']\n",
        "\n",
        "temp = frequent_itemsets.copy()\n",
        "frequent_itemsets_cleaned = remove_labels_from_itemsets(temp, exclude_labels)\n",
        "#print(frequent_itemsets_cleaned)\n",
        "#print(frequent_itemsets)\n"
      ],
      "metadata": {
        "colab": {
          "base_uri": "https://localhost:8080/"
        },
        "id": "w0ciRKZLiyiv",
        "outputId": "4af27108-ce2b-43c7-c98d-cb663523eb38"
      },
      "execution_count": 101,
      "outputs": [
        {
          "output_type": "stream",
          "name": "stderr",
          "text": [
            "/usr/local/lib/python3.10/dist-packages/ipykernel/ipkernel.py:283: DeprecationWarning: `should_run_async` will not call `transform_cell` automatically in the future. Please pass the result to `transformed_cell` argument and any exception that happen during thetransform in `preprocessing_exc_tuple` in IPython 7.17 and above.\n",
            "  and should_run_async(code)\n"
          ]
        }
      ]
    },
    {
      "cell_type": "code",
      "source": [
        "def construct_features(data, frequent_itemsets, frequent_itemsets_cleaned = None):\n",
        "    \"\"\"\n",
        "    change data to feature matrix，if the data has that feature than set to 1 else 0\n",
        "    \"\"\"\n",
        "    if frequent_itemsets_cleaned is None: # tarin\n",
        "      X_freq = pd.DataFrame(0, index=data.index, columns=frequent_itemsets['itemsets'].apply(lambda x: str(x)))\n",
        "      for itemset in frequent_itemsets['itemsets']:\n",
        "          col_name = str(itemset)\n",
        "          X_freq[col_name] = data.apply(lambda row: 1 if all(item in row.values for item in itemset) else 0, axis=1)\n",
        "      return X_freq\n",
        "\n",
        "    else: # valid\n",
        "      X_freq = pd.DataFrame(0, index=data.index, columns=frequent_itemsets['itemsets'].apply(lambda x: str(x)))\n",
        "\n",
        "\n",
        "      for i, itemset in enumerate(frequent_itemsets_cleaned['itemsets']):\n",
        "        col_name = str(frequent_itemsets['itemsets'].iloc[i])\n",
        "        X_freq[col_name] = data.apply(lambda row: 1 if all(item in row.values for item in itemset) else 0, axis=1)\n",
        "      return X_freq\n",
        "\n",
        "\n",
        "X_freq_train = construct_features(train_data_prefixed, frequent_itemsets)\n",
        "X_freq_val = construct_features(X_val_discrete, frequent_itemsets, frequent_itemsets_cleaned)"
      ],
      "metadata": {
        "colab": {
          "base_uri": "https://localhost:8080/"
        },
        "id": "uW2f2a-4iKfn",
        "outputId": "6e6dd58e-a6be-4137-ef3b-4031bf015f11"
      },
      "execution_count": 102,
      "outputs": [
        {
          "output_type": "stream",
          "name": "stderr",
          "text": [
            "/usr/local/lib/python3.10/dist-packages/ipykernel/ipkernel.py:283: DeprecationWarning: `should_run_async` will not call `transform_cell` automatically in the future. Please pass the result to `transformed_cell` argument and any exception that happen during thetransform in `preprocessing_exc_tuple` in IPython 7.17 and above.\n",
            "  and should_run_async(code)\n"
          ]
        }
      ]
    },
    {
      "cell_type": "code",
      "source": [
        "# Data Augmentation（SMOTE）\n",
        "from imblearn.over_sampling import SMOTE\n",
        "smote = SMOTE(random_state=42)\n",
        "X_freq_train, y_train = smote.fit_resample(X_freq_train, y_train)"
      ],
      "metadata": {
        "colab": {
          "base_uri": "https://localhost:8080/"
        },
        "id": "7GcicrTJi6XK",
        "outputId": "8772f841-582f-4fdf-ac8b-acd00010c184"
      },
      "execution_count": 103,
      "outputs": [
        {
          "output_type": "stream",
          "name": "stderr",
          "text": [
            "/usr/local/lib/python3.10/dist-packages/ipykernel/ipkernel.py:283: DeprecationWarning: `should_run_async` will not call `transform_cell` automatically in the future. Please pass the result to `transformed_cell` argument and any exception that happen during thetransform in `preprocessing_exc_tuple` in IPython 7.17 and above.\n",
            "  and should_run_async(code)\n"
          ]
        }
      ]
    },
    {
      "cell_type": "code",
      "source": [
        "# KNN classifier\n",
        "#knn = KNeighborsClassifier(n_neighbors=5)\n",
        "knn = KNeighborsClassifier(n_neighbors=5, weights='distance')\n",
        "knn.fit(X_freq_train, y_train.values.ravel())  # make sure the shape of y\n",
        "\n",
        "y_pred = knn.predict(X_freq_val)\n",
        "\n",
        "print(\"Classification Report:\")\n",
        "print(classification_report(y_val, y_pred, digits=4))\n",
        "print(f\"Accuracy: {accuracy_score(y_val, y_pred):.4f}\")\n",
        "\n",
        "\n",
        "# check prediction distribution\n",
        "from collections import Counter\n",
        "print(\"Predicted label distribution:\", Counter(y_pred))"
      ],
      "metadata": {
        "colab": {
          "base_uri": "https://localhost:8080/"
        },
        "id": "ZHycXyl4i9p9",
        "outputId": "8662e09e-513b-49f7-cfac-dc9f192374b7"
      },
      "execution_count": 104,
      "outputs": [
        {
          "output_type": "stream",
          "name": "stdout",
          "text": [
            "Classification Report:\n",
            "              precision    recall  f1-score   support\n",
            "\n",
            "    Insomnia     0.7059    0.7500    0.7273        16\n",
            " Sleep Apnea     0.8000    0.7500    0.7742        16\n",
            " no disorder     0.9302    0.9302    0.9302        43\n",
            "\n",
            "    accuracy                         0.8533        75\n",
            "   macro avg     0.8120    0.8101    0.8106        75\n",
            "weighted avg     0.8546    0.8533    0.8536        75\n",
            "\n",
            "Accuracy: 0.8533\n",
            "Predicted label distribution: Counter({'no disorder': 43, 'Insomnia': 17, 'Sleep Apnea': 15})\n"
          ]
        },
        {
          "output_type": "stream",
          "name": "stderr",
          "text": [
            "/usr/local/lib/python3.10/dist-packages/ipykernel/ipkernel.py:283: DeprecationWarning: `should_run_async` will not call `transform_cell` automatically in the future. Please pass the result to `transformed_cell` argument and any exception that happen during thetransform in `preprocessing_exc_tuple` in IPython 7.17 and above.\n",
            "  and should_run_async(code)\n"
          ]
        }
      ]
    },
    {
      "cell_type": "code",
      "source": [
        "label_to_num = {'no disorder': 0, 'Sleep Apnea': 1, 'Insomnia': 2}\n",
        "num_to_label = {v: k for k, v in label_to_num.items()}\n",
        "\n",
        "# change to number for auroc library\n",
        "y_val_label = y_val['Sleep Disorder'].map(label_to_num).values\n",
        "y_pred_label = [label_to_num[label] for label in y_pred]\n",
        "\n",
        "# for auroc\n",
        "y_pred_proba = knn.predict_proba(X_freq_val)\n",
        "auroc = roc_auc_score(y_val_label, y_pred_proba, multi_class='ovr')\n",
        "\n",
        "print((f\"AUROC: {auroc:.4f}\"))"
      ],
      "metadata": {
        "colab": {
          "base_uri": "https://localhost:8080/"
        },
        "id": "cCmkhHWraDFm",
        "outputId": "ebb01a7f-f08c-40ef-ffc9-bab649d04850"
      },
      "execution_count": 108,
      "outputs": [
        {
          "output_type": "stream",
          "name": "stdout",
          "text": [
            "AUROC: 0.4518\n"
          ]
        },
        {
          "output_type": "stream",
          "name": "stderr",
          "text": [
            "/usr/local/lib/python3.10/dist-packages/ipykernel/ipkernel.py:283: DeprecationWarning: `should_run_async` will not call `transform_cell` automatically in the future. Please pass the result to `transformed_cell` argument and any exception that happen during thetransform in `preprocessing_exc_tuple` in IPython 7.17 and above.\n",
            "  and should_run_async(code)\n"
          ]
        }
      ]
    }
  ]
}