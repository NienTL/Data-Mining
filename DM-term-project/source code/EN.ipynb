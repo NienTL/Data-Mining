{
 "cells": [
  {
   "cell_type": "code",
   "execution_count": 30,
   "metadata": {
    "execution": {
     "iopub.execute_input": "2024-11-11T13:45:03.749804Z",
     "iopub.status.busy": "2024-11-11T13:45:03.749343Z",
     "iopub.status.idle": "2024-11-11T13:45:03.765487Z",
     "shell.execute_reply": "2024-11-11T13:45:03.764042Z",
     "shell.execute_reply.started": "2024-11-11T13:45:03.749751Z"
    },
    "trusted": true
   },
   "outputs": [],
   "source": [
    "import pandas as pd\n",
    "\n",
    "\n",
    "data = pd.read_csv('Sleep_health_and_lifestyle_dataset.csv')\n",
    "sleep_disorder_mapping = {label: idx for idx, label in enumerate(data['Sleep Disorder'].unique())}\n",
    "data['Sleep Disorder'] = data['Sleep Disorder'].map(sleep_disorder_mapping)\n",
    "\n",
    "# Save Sleep Disorder as a map\n",
    "# Can be used after prediction\n",
    "mapping_df = pd.DataFrame(list(sleep_disorder_mapping.items()), columns=['Class Name', 'Index'])\n",
    "mapping_df.to_csv('sleep_disorder_mapping.csv', index=False)\n",
    "\n",
    "\n",
    "#print(data['Sleep Disorder'].head(10))\n",
    "#print(\"Mapping of Sleep Disorder classes to numbers:\", sleep_disorder_mapping)\n",
    "#print(data['Sleep Disorder'])"
   ]
  },
  {
   "cell_type": "code",
   "execution_count": 31,
   "metadata": {
    "execution": {
     "iopub.execute_input": "2024-11-11T13:45:03.768749Z",
     "iopub.status.busy": "2024-11-11T13:45:03.768347Z",
     "iopub.status.idle": "2024-11-11T13:45:03.779159Z",
     "shell.execute_reply": "2024-11-11T13:45:03.777702Z",
     "shell.execute_reply.started": "2024-11-11T13:45:03.768707Z"
    },
    "trusted": true
   },
   "outputs": [],
   "source": [
    "# Split x, y data\n",
    "y_data = data[['Sleep Disorder']]\n",
    "x_data = data.drop(columns=['Sleep Disorder'])\n",
    "\n",
    "# Correct x_data\n",
    "x_data['BMI Category'] = x_data['BMI Category'].replace('Normal Weight', 'Normal')\n",
    "\n",
    "#print(x_data)"
   ]
  },
  {
   "cell_type": "code",
   "execution_count": 32,
   "metadata": {
    "execution": {
     "iopub.execute_input": "2024-11-11T13:45:03.781166Z",
     "iopub.status.busy": "2024-11-11T13:45:03.780653Z",
     "iopub.status.idle": "2024-11-11T13:45:03.792305Z",
     "shell.execute_reply": "2024-11-11T13:45:03.791143Z",
     "shell.execute_reply.started": "2024-11-11T13:45:03.781107Z"
    },
    "trusted": true
   },
   "outputs": [],
   "source": [
    "columns_to_drop = [\n",
    "    'Person ID'\n",
    "]\n",
    "x_data = x_data.drop(columns=columns_to_drop)"
   ]
  },
  {
   "cell_type": "code",
   "execution_count": 33,
   "metadata": {
    "execution": {
     "iopub.execute_input": "2024-11-11T13:45:03.794095Z",
     "iopub.status.busy": "2024-11-11T13:45:03.793687Z",
     "iopub.status.idle": "2024-11-11T13:45:03.815908Z",
     "shell.execute_reply": "2024-11-11T13:45:03.814777Z",
     "shell.execute_reply.started": "2024-11-11T13:45:03.794035Z"
    },
    "trusted": true
   },
   "outputs": [
    {
     "name": "stdout",
     "output_type": "stream",
     "text": [
      "First few rows of x_data after splitting 'Blood Pressure':\n",
      "  Gender  Age            Occupation  Sleep Duration  Quality of Sleep  \\\n",
      "0   Male   27     Software Engineer             6.1                 6   \n",
      "1   Male   28                Doctor             6.2                 6   \n",
      "2   Male   28                Doctor             6.2                 6   \n",
      "3   Male   28  Sales Representative             5.9                 4   \n",
      "4   Male   28  Sales Representative             5.9                 4   \n",
      "\n",
      "   Physical Activity Level  Stress Level BMI Category  Heart Rate  \\\n",
      "0                       42             6   Overweight          77   \n",
      "1                       60             8       Normal          75   \n",
      "2                       60             8       Normal          75   \n",
      "3                       30             8        Obese          85   \n",
      "4                       30             8        Obese          85   \n",
      "\n",
      "   Daily Steps  Blood Pressure systolic  Blood Pressure diastolic  \n",
      "0         4200                      126                        83  \n",
      "1        10000                      125                        80  \n",
      "2        10000                      125                        80  \n",
      "3         3000                      140                        90  \n",
      "4         3000                      140                        90  \n"
     ]
    }
   ],
   "source": [
    "# Split the 'Blood Pressure (systolic/diastolic)' column into two new columns\n",
    "x_data[['Blood Pressure systolic', 'Blood Pressure diastolic']] = x_data['Blood Pressure'].str.split('/', expand=True)\n",
    "\n",
    "x_data['Blood Pressure systolic'] = pd.to_numeric(x_data['Blood Pressure systolic'])\n",
    "x_data['Blood Pressure diastolic'] = pd.to_numeric(x_data['Blood Pressure diastolic'])\n",
    "\n",
    "x_data = x_data.drop(columns=['Blood Pressure'])\n",
    "\n",
    "print(\"First few rows of x_data after splitting 'Blood Pressure':\")\n",
    "print(x_data.head())\n"
   ]
  },
  {
   "cell_type": "code",
   "execution_count": 34,
   "metadata": {
    "execution": {
     "iopub.execute_input": "2024-11-11T13:45:03.819928Z",
     "iopub.status.busy": "2024-11-11T13:45:03.819461Z",
     "iopub.status.idle": "2024-11-11T13:45:03.840045Z",
     "shell.execute_reply": "2024-11-11T13:45:03.838857Z",
     "shell.execute_reply.started": "2024-11-11T13:45:03.819884Z"
    },
    "trusted": true
   },
   "outputs": [],
   "source": [
    "# Split training and testing data\n",
    "from sklearn.model_selection import train_test_split\n",
    "\n",
    "X_train, X_val, y_train, y_val = train_test_split(x_data, y_data, test_size=0.2, random_state=42)\n",
    "\n",
    "\n",
    "# One-hot encode categorical features in X_train and X_val\n",
    "\n",
    "X_train = pd.get_dummies(X_train, drop_first=True)\n",
    "X_val = pd.get_dummies(X_val, drop_first=True)\n",
    "\n",
    "\n",
    "X_val = X_val.reindex(columns=X_train.columns, fill_value=0)\n",
    "# # print(\"First few rows of X_train after one-hot encoding:\")\n",
    "# print(X_train.head())\n",
    "# # print(\"\\nFirst few rows of X_val after one-hot encoding:\")\n",
    "# print(X_val.head())"
   ]
  },
  {
   "cell_type": "code",
   "execution_count": 35,
   "metadata": {
    "execution": {
     "iopub.execute_input": "2024-11-11T13:45:03.841934Z",
     "iopub.status.busy": "2024-11-11T13:45:03.841537Z",
     "iopub.status.idle": "2024-11-11T13:45:03.866443Z",
     "shell.execute_reply": "2024-11-11T13:45:03.865108Z",
     "shell.execute_reply.started": "2024-11-11T13:45:03.841892Z"
    },
    "trusted": true
   },
   "outputs": [],
   "source": [
    "# Do Scaling\n",
    "from sklearn.preprocessing import StandardScaler\n",
    "\n",
    "\n",
    "scaler = StandardScaler()\n",
    "\n",
    "X_train = pd.DataFrame(scaler.fit_transform(X_train), columns=X_train.columns, index=X_train.index)\n",
    "X_val = pd.DataFrame(scaler.transform(X_val), columns=X_val.columns, index=X_val.index)\n",
    "\n",
    "# Display the first few rows to confirm scaling\n",
    "# print(\"First few rows of X_train after scaling:\")\n",
    "# print(X_train.head())\n",
    "# print(\"\\nFirst few rows of X_val after scaling:\")\n",
    "# print(X_val.head())"
   ]
  },
  {
   "cell_type": "code",
   "execution_count": 36,
   "metadata": {
    "execution": {
     "iopub.execute_input": "2024-11-11T13:45:03.868632Z",
     "iopub.status.busy": "2024-11-11T13:45:03.868232Z",
     "iopub.status.idle": "2024-11-11T13:45:03.897314Z",
     "shell.execute_reply": "2024-11-11T13:45:03.896157Z",
     "shell.execute_reply.started": "2024-11-11T13:45:03.868590Z"
    },
    "trusted": true
   },
   "outputs": [
    {
     "name": "stdout",
     "output_type": "stream",
     "text": [
      "Class distribution before resampling:\n",
      "Sleep Disorder\n",
      "0                 176\n",
      "1                  62\n",
      "2                  61\n",
      "Name: count, dtype: int64\n",
      "\n",
      "\n",
      "Class distribution after resampling:\n",
      "Sleep Disorder\n",
      "0                 176\n",
      "1                 176\n",
      "2                 176\n",
      "Name: count, dtype: int64\n"
     ]
    }
   ],
   "source": [
    "from imblearn.over_sampling import SMOTE\n",
    "\n",
    "print(\"Class distribution before resampling:\")\n",
    "print(y_train.value_counts())\n",
    "print(\"\\n\")\n",
    "\n",
    "# Oversampling using SMOTE\n",
    "smote = SMOTE(random_state=42)\n",
    "X_train_resampled, y_train_resampled = smote.fit_resample(X_train, y_train)\n",
    "\n",
    "print(\"Class distribution after resampling:\")\n",
    "print(y_train_resampled.value_counts())"
   ]
  },
  {
   "cell_type": "code",
   "execution_count": 37,
   "metadata": {
    "execution": {
     "iopub.execute_input": "2024-11-11T13:45:28.836109Z",
     "iopub.status.busy": "2024-11-11T13:45:28.835632Z",
     "iopub.status.idle": "2024-11-11T13:45:28.875580Z",
     "shell.execute_reply": "2024-11-11T13:45:28.874285Z",
     "shell.execute_reply.started": "2024-11-11T13:45:28.836037Z"
    },
    "trusted": true
   },
   "outputs": [],
   "source": [
    "# print(X_train)\n",
    "# print(X_val)"
   ]
  },
  {
   "cell_type": "markdown",
   "metadata": {},
   "source": [
    "# Train --EN"
   ]
  },
  {
   "cell_type": "code",
   "execution_count": 38,
   "metadata": {
    "trusted": true
   },
   "outputs": [],
   "source": [
    "import pandas as pd\n",
    "from sklearn.ensemble import RandomForestClassifier\n",
    "from sklearn.svm import SVC\n",
    "from sklearn.linear_model import LogisticRegression\n",
    "from sklearn.metrics import make_scorer, f1_score, accuracy_score, classification_report, roc_auc_score, roc_curve, precision_score, recall_score\n",
    "from sklearn.preprocessing import StandardScaler\n",
    "from sklearn.model_selection import StratifiedKFold, cross_validate\n",
    "from xgboost import XGBClassifier\n",
    "\n",
    "train_X = X_train_resampled\n",
    "train_y = y_train_resampled['Sleep Disorder']\n",
    "val_X = X_val\n",
    "val_y = y_val['Sleep Disorder']\n",
    "\n",
    "scoring_metrics = {\n",
    "    'accuracy': 'accuracy',\n",
    "    'f1': make_scorer(f1_score, average='weighted'),  \n",
    "    'roc_auc': 'roc_auc_ovr'  \n",
    "}\n",
    "\n",
    "def print_val_score(model_name, cv_results):\n",
    "    print(f\"[ {model_name} ]\")\n",
    "    print(\"Average F1 Score:  \", round(cv_results['test_f1'].mean(), 4))\n",
    "    print(\"Average Accuracy:  \", round(cv_results['test_accuracy'].mean(), 4))\n",
    "    print(\"Average AUROC:     \", round(cv_results['test_roc_auc'].mean(), 4))\n",
    "\n",
    "def print_performance(model_name, predictions, val_y):\n",
    "    print(f\"[ {model_name} ]\")\n",
    "    score_f1 = f1_score(val_y, predictions, average='weighted')\n",
    "    score_acc = accuracy_score(val_y, predictions)\n",
    "    score_precision = precision_score(y_val, predictions, average='weighted')\n",
    "    score_recall = recall_score(y_val, predictions, average='weighted')\n",
    "    print(\"Average F1 Score:  \", round(score_f1, 4))\n",
    "    print(\"Average Accuracy:  \", round(score_acc, 4))\n",
    "    print(\"Average Precision: \", round(score_precision, 4))\n",
    "    print(\"Average Recall:    \", round(score_recall, 4))\n",
    "    \n",
    "\n"
   ]
  },
  {
   "cell_type": "markdown",
   "metadata": {},
   "source": [
    "### Cross Validation"
   ]
  },
  {
   "cell_type": "code",
   "execution_count": 39,
   "metadata": {},
   "outputs": [
    {
     "name": "stdout",
     "output_type": "stream",
     "text": [
      "[ Random Forest ]\n",
      "Average F1 Score:   0.9069\n",
      "Average Accuracy:   0.9071\n",
      "Average AUROC:      0.9641\n"
     ]
    }
   ],
   "source": [
    "model_name = \"Random Forest\"\n",
    "rf_model = RandomForestClassifier(\n",
    "    n_estimators=100,\n",
    "    max_depth=15,\n",
    "    class_weight='balanced',\n",
    "    random_state=42)\n",
    "\n",
    "rf_scores = cross_validate(estimator=rf_model, X=train_X, y=train_y, cv=5, scoring=scoring_metrics)\n",
    "print_val_score(model_name, rf_scores)"
   ]
  },
  {
   "cell_type": "code",
   "execution_count": 40,
   "metadata": {},
   "outputs": [
    {
     "name": "stdout",
     "output_type": "stream",
     "text": [
      "[ XGBoost ]\n",
      "Average F1 Score:   0.9221\n",
      "Average Accuracy:   0.9223\n",
      "Average AUROC:      0.9604\n"
     ]
    }
   ],
   "source": [
    "model_name = 'XGBoost'\n",
    "xgboost_model = XGBClassifier(\n",
    "    n_estimators=200, \n",
    "    learning_rate=0.1, \n",
    "    max_depth=6, \n",
    "    random_state=42, \n",
    "    verbosity=2)\n",
    "xgboost_scores = cross_validate(estimator=xgboost_model, X=train_X, y=train_y, cv=5, scoring=scoring_metrics)\n",
    "print_val_score(model_name, xgboost_scores)"
   ]
  },
  {
   "cell_type": "code",
   "execution_count": 41,
   "metadata": {},
   "outputs": [
    {
     "name": "stdout",
     "output_type": "stream",
     "text": [
      "[ SVM ]\n",
      "Average F1 Score:   0.9058\n",
      "Average Accuracy:   0.9053\n",
      "Average AUROC:      0.9598\n"
     ]
    }
   ],
   "source": [
    "model_name = 'SVM'\n",
    "svm_model = SVC(\n",
    "    kernel='linear',\n",
    "    random_state=42,\n",
    "    probability=True)\n",
    "svm_scores = cross_validate(estimator=svm_model, X=train_X, y=train_y, cv=5, scoring=scoring_metrics)\n",
    "print_val_score(model_name, svm_scores)"
   ]
  },
  {
   "cell_type": "markdown",
   "metadata": {},
   "source": [
    "### Train & Test"
   ]
  },
  {
   "cell_type": "code",
   "execution_count": 42,
   "metadata": {},
   "outputs": [
    {
     "name": "stdout",
     "output_type": "stream",
     "text": [
      "[ RandomForestClassifier(class_weight='balanced', max_depth=15, random_state=42) ]\n",
      "Average F1 Score:   0.9058\n",
      "Average Accuracy:   0.9067\n",
      "Average Precision:  0.9055\n",
      "Average Recall:     0.9067\n",
      "\n",
      "\n",
      "\n",
      "[ XGBClassifier(base_score=None, booster=None, callbacks=None,\n",
      "              colsample_bylevel=None, colsample_bynode=None,\n",
      "              colsample_bytree=None, device=None, early_stopping_rounds=None,\n",
      "              enable_categorical=False, eval_metric=None, feature_types=None,\n",
      "              gamma=None, grow_policy=None, importance_type=None,\n",
      "              interaction_constraints=None, learning_rate=0.1, max_bin=None,\n",
      "              max_cat_threshold=None, max_cat_to_onehot=None,\n",
      "              max_delta_step=None, max_depth=6, max_leaves=None,\n",
      "              min_child_weight=None, missing=nan, monotone_constraints=None,\n",
      "              multi_strategy=None, n_estimators=200, n_jobs=None,\n",
      "              num_parallel_tree=None, objective='multi:softprob', ...) ]\n",
      "Average F1 Score:   0.9058\n",
      "Average Accuracy:   0.9067\n",
      "Average Precision:  0.9055\n",
      "Average Recall:     0.9067\n",
      "\n",
      "\n",
      "\n",
      "[ SVC(kernel='linear', probability=True, random_state=42) ]\n",
      "Average F1 Score:   0.8918\n",
      "Average Accuracy:   0.8933\n",
      "Average Precision:  0.9\n",
      "Average Recall:     0.8933\n"
     ]
    }
   ],
   "source": [
    "best_model = rf_model \n",
    "best_model.fit(train_X, train_y)\n",
    "test_predictions = best_model.predict(val_X)\n",
    "print_performance(str(best_model), test_predictions, val_y)\n",
    "print(\"\\n\\n\")\n",
    "best_model = xgboost_model \n",
    "best_model.fit(train_X, train_y)\n",
    "test_predictions = best_model.predict(val_X)\n",
    "print_performance(str(best_model), test_predictions, val_y)\n",
    "print(\"\\n\\n\")\n",
    "best_model = svm_model \n",
    "best_model.fit(train_X, train_y)\n",
    "test_predictions = best_model.predict(val_X)\n",
    "print_performance(str(best_model), test_predictions, val_y)\n"
   ]
  },
  {
   "cell_type": "code",
   "execution_count": null,
   "metadata": {},
   "outputs": [],
   "source": []
  }
 ],
 "metadata": {
  "kaggle": {
   "accelerator": "none",
   "dataSources": [
    {
     "datasetId": 3321433,
     "sourceId": 6491929,
     "sourceType": "datasetVersion"
    }
   ],
   "dockerImageVersionId": 30786,
   "isGpuEnabled": false,
   "isInternetEnabled": true,
   "language": "python",
   "sourceType": "notebook"
  },
  "kernelspec": {
   "display_name": "Python 3",
   "language": "python",
   "name": "python3"
  },
  "language_info": {
   "codemirror_mode": {
    "name": "ipython",
    "version": 3
   },
   "file_extension": ".py",
   "mimetype": "text/x-python",
   "name": "python",
   "nbconvert_exporter": "python",
   "pygments_lexer": "ipython3",
   "version": "3.13.0"
  }
 },
 "nbformat": 4,
 "nbformat_minor": 4
}
